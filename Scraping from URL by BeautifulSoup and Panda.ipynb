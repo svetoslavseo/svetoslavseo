{
 "cells": [
  {
   "cell_type": "code",
   "execution_count": 125,
   "metadata": {},
   "outputs": [],
   "source": [
    "# To scrape from URL we need lybrary Bear\n",
    "from bs4 import BeautifulSoup\n",
    "import requests\n",
    "import pandas as pd"
   ]
  },
  {
   "cell_type": "code",
   "execution_count": 6,
   "metadata": {},
   "outputs": [],
   "source": [
    "url = 'https://www.watchshop.com/mens-watches.html'"
   ]
  },
  {
   "cell_type": "code",
   "execution_count": 14,
   "metadata": {},
   "outputs": [],
   "source": [
    "data = requests.get(url)\n",
    "soup = BeautifulSoup(data.text, 'html.parser')"
   ]
  },
  {
   "cell_type": "code",
   "execution_count": 112,
   "metadata": {},
   "outputs": [
    {
     "name": "stdout",
     "output_type": "stream",
     "text": [
      "[<h6 class=\"d-inline-block\">88 Rue Du Rhone <em>(2)</em></h6>, <h6 class=\"d-inline-block\">Abbott Lyon <em>(6)</em></h6>, <h6 class=\"d-inline-block\">Accurist <em>(89)</em></h6>, <h6 class=\"d-inline-block\">Adidas Originals <em>(45)</em></h6>, <h6 class=\"d-inline-block\">Alpina <em>(36)</em></h6>, <h6 class=\"d-inline-block\">Andreas Osten <em>(14)</em></h6>, <h6 class=\"d-inline-block\">Armani Exchange <em>(26)</em></h6>, <h6 class=\"d-inline-block\">Ball <em>(36)</em></h6>, <h6 class=\"d-inline-block\">Baume &amp; Mercier <em>(34)</em></h6>, <h6 class=\"d-inline-block\">Ben Sherman <em>(31)</em></h6>, <h6 class=\"d-inline-block\">Ben Sherman London <em>(50)</em></h6>, <h6 class=\"d-inline-block\">Bering <em>(29)</em></h6>, <h6 class=\"d-inline-block\">Birline <em>(1)</em></h6>, <h6 class=\"d-inline-block\">Breo <em>(4)</em></h6>, <h6 class=\"d-inline-block\">Bruno Sohnle <em>(40)</em></h6>, <h6 class=\"d-inline-block\">Bulova <em>(66)</em></h6>, <h6 class=\"d-inline-block\">CALVIN KLEIN <em>(98)</em></h6>, <h6 class=\"d-inline-block\">CT Scuderia <em>(24)</em></h6>, <h6 class=\"d-inline-block\">Casio <em>(216)</em></h6>, <h6 class=\"d-inline-block\">Certina <em>(99)</em></h6>, <h6 class=\"d-inline-block\">Christian Paul <em>(13)</em></h6>, <h6 class=\"d-inline-block\">Citizen <em>(111)</em></h6>, <h6 class=\"d-inline-block\">Coach <em>(19)</em></h6>, <h6 class=\"d-inline-block\">Continental <em>(13)</em></h6>, <h6 class=\"d-inline-block\">DKNY <em>(1)</em></h6>, <h6 class=\"d-inline-block\">Daisy Knights <em>(2)</em></h6>, <h6 class=\"d-inline-block\">Daniel Wellington <em>(104)</em></h6>, <h6 class=\"d-inline-block\">Davosa <em>(60)</em></h6>, <h6 class=\"d-inline-block\">Diesel <em>(43)</em></h6>, <h6 class=\"d-inline-block\">Dreyfuss Co <em>(9)</em></h6>, <h6 class=\"d-inline-block\">Ebel <em>(8)</em></h6>, <h6 class=\"d-inline-block\">Elliot Brown <em>(30)</em></h6>, <h6 class=\"d-inline-block\">Emile Chouriet <em>(23)</em></h6>, <h6 class=\"d-inline-block\">Emporio Armani <em>(38)</em></h6>, <h6 class=\"d-inline-block\">Eone <em>(19)</em></h6>, <h6 class=\"d-inline-block\">Esprit <em>(4)</em></h6>, <h6 class=\"d-inline-block\">EverSwiss <em>(5)</em></h6>, <h6 class=\"d-inline-block\">Festina <em>(63)</em></h6>, <h6 class=\"d-inline-block\">Fossil <em>(37)</em></h6>, <h6 class=\"d-inline-block\">Gc <em>(40)</em></h6>, <h6 class=\"d-inline-block\">Gucci <em>(63)</em></h6>, <h6 class=\"d-inline-block\">Guess <em>(83)</em></h6>, <h6 class=\"d-inline-block\">HUGO <em>(58)</em></h6>, <h6 class=\"d-inline-block\">Hamilton <em>(180)</em></h6>, <h6 class=\"d-inline-block\">Henry London <em>(43)</em></h6>, <h6 class=\"d-inline-block\">Hugo Boss <em>(77)</em></h6>, <h6 class=\"d-inline-block\">Hugo Boss Orange <em>(2)</em></h6>, <h6 class=\"d-inline-block\">Hype <em>(11)</em></h6>, <h6 class=\"d-inline-block\">Ice-Watch <em>(1)</em></h6>, <h6 class=\"d-inline-block\">Ingersoll <em>(136)</em></h6>, <h6 class=\"d-inline-block\">Iron Annie <em>(7)</em></h6>, <h6 class=\"d-inline-block\">Jack Wills <em>(32)</em></h6>, <h6 class=\"d-inline-block\">Jean Paul Gaultier <em>(18)</em></h6>, <h6 class=\"d-inline-block\">Jean Pierre <em>(22)</em></h6>, <h6 class=\"d-inline-block\">Joules <em>(3)</em></h6>, <h6 class=\"d-inline-block\">Junghans <em>(84)</em></h6>, <h6 class=\"d-inline-block\">Junkers <em>(5)</em></h6>, <h6 class=\"d-inline-block\">Kenneth Cole <em>(10)</em></h6>, <h6 class=\"d-inline-block\">LLARSEN <em>(18)</em></h6>, <h6 class=\"d-inline-block\">Lacoste <em>(29)</em></h6>, <h6 class=\"d-inline-block\">Larsson &amp; Jennings <em>(8)</em></h6>, <h6 class=\"d-inline-block\">Limit <em>(58)</em></h6>, <h6 class=\"d-inline-block\">Lorus <em>(94)</em></h6>, <h6 class=\"d-inline-block\">Lotus <em>(29)</em></h6>, <h6 class=\"d-inline-block\">Louis Erard <em>(24)</em></h6>, <h6 class=\"d-inline-block\">MVMT <em>(25)</em></h6>, <h6 class=\"d-inline-block\">Maserati <em>(16)</em></h6>, <h6 class=\"d-inline-block\">Maurice Lacroix <em>(45)</em></h6>, <h6 class=\"d-inline-block\">Meistersinger <em>(3)</em></h6>, <h6 class=\"d-inline-block\">Michael Kors <em>(25)</em></h6>, <h6 class=\"d-inline-block\">Michel Herbelin <em>(46)</em></h6>, <h6 class=\"d-inline-block\">Mondaine <em>(45)</em></h6>, <h6 class=\"d-inline-block\">Movado <em>(45)</em></h6>, <h6 class=\"d-inline-block\">Muhle Glashutte <em>(74)</em></h6>, <h6 class=\"d-inline-block\">Nixon <em>(95)</em></h6>, <h6 class=\"d-inline-block\">Oris <em>(18)</em></h6>, <h6 class=\"d-inline-block\">Paul Hewitt <em>(20)</em></h6>, <h6 class=\"d-inline-block\">Paul Smith <em>(12)</em></h6>, <h6 class=\"d-inline-block\">Police <em>(48)</em></h6>, <h6 class=\"d-inline-block\">Pulsar <em>(68)</em></h6>, <h6 class=\"d-inline-block\">REC <em>(13)</em></h6>, <h6 class=\"d-inline-block\">Rado <em>(3)</em></h6>, <h6 class=\"d-inline-block\">Raymond Weil <em>(27)</em></h6>, <h6 class=\"d-inline-block\">Rotary <em>(77)</em></h6>, <h6 class=\"d-inline-block\">Royal London <em>(3)</em></h6>, <h6 class=\"d-inline-block\">STORM <em>(85)</em></h6>, <h6 class=\"d-inline-block\">Scuderia Ferrari <em>(67)</em></h6>, <h6 class=\"d-inline-block\">Seiko <em>(44)</em></h6>, <h6 class=\"d-inline-block\">Sekonda <em>(132)</em></h6>, <h6 class=\"d-inline-block\">Shinola <em>(4)</em></h6>, <h6 class=\"d-inline-block\">Skagen <em>(27)</em></h6>, <h6 class=\"d-inline-block\">Skagen Connected <em>(1)</em></h6>, <h6 class=\"d-inline-block\">Smart Turnout <em>(32)</em></h6>, <h6 class=\"d-inline-block\">Superdry <em>(20)</em></h6>, <h6 class=\"d-inline-block\">Suunto <em>(2)</em></h6>, <h6 class=\"d-inline-block\">Swatch <em>(262)</em></h6>, <h6 class=\"d-inline-block\">Swiss Military Hanowa <em>(7)</em></h6>, <h6 class=\"d-inline-block\">TW Steel <em>(26)</em></h6>, <h6 class=\"d-inline-block\">Ted Baker <em>(22)</em></h6>, <h6 class=\"d-inline-block\">Thomas Sabo <em>(11)</em></h6>, <h6 class=\"d-inline-block\">Timberland <em>(22)</em></h6>, <h6 class=\"d-inline-block\">Timex <em>(123)</em></h6>, <h6 class=\"d-inline-block\">Tissot <em>(192)</em></h6>, <h6 class=\"d-inline-block\">Tommy Hilfiger <em>(46)</em></h6>, <h6 class=\"d-inline-block\">Union Glashuette <em>(26)</em></h6>, <h6 class=\"d-inline-block\">Verb <em>(3)</em></h6>, <h6 class=\"d-inline-block\">Versace <em>(8)</em></h6>, <h6 class=\"d-inline-block\">Versus Versace <em>(25)</em></h6>, <h6 class=\"d-inline-block\">Victorinox Swiss Army <em>(59)</em></h6>, <h6 class=\"d-inline-block\">Vivienne Westwood <em>(22)</em></h6>, <h6 class=\"d-inline-block\">Wenger <em>(24)</em></h6>, <h6 class=\"d-inline-block\">Zadig &amp; Voltaire <em>(8)</em></h6>, <h6 class=\"d-inline-block\">Zeppelin <em>(28)</em></h6>, <h6 class=\"d-inline-block\">For Him <em>(4719)</em></h6>, <h6 class=\"d-inline-block\">For Her <em>(639)</em></h6>, <h6 class=\"d-inline-block\">Unisex <em>(639)</em></h6>, <h6 class=\"d-inline-block\">Bracelet <em>(50)</em></h6>, <h6 class=\"d-inline-block\">Expandable <em>(12)</em></h6>, <h6 class=\"d-inline-block\">Mesh <em>(2)</em></h6>, <h6 class=\"d-inline-block\">Mixed Material <em>(6)</em></h6>, <h6 class=\"d-inline-block\">N/A <em>(41)</em></h6>, <h6 class=\"d-inline-block\">Nylon <em>(61)</em></h6>, <h6 class=\"d-inline-block\">PU Leather <em>(23)</em></h6>, <h6 class=\"d-inline-block\">Strap <em>(86)</em></h6>, <h6 class=\"d-inline-block\">Ceramic <em>(7)</em></h6>, <h6 class=\"d-inline-block\">Cuff <em>(3)</em></h6>, <h6 class=\"d-inline-block\">Fabric <em>(164)</em></h6>, <h6 class=\"d-inline-block\">Leather <em>(1782)</em></h6>, <h6 class=\"d-inline-block\">Metal <em>(1600)</em></h6>, <h6 class=\"d-inline-block\">Rubber <em>(731)</em></h6>, <h6 class=\"d-inline-block\">Beige <em>(4)</em></h6>, <h6 class=\"d-inline-block\">Blue Mother of pearl <em>(1)</em></h6>, <h6 class=\"d-inline-block\">Burgundy <em>(3)</em></h6>, <h6 class=\"d-inline-block\">LCD <em>(198)</em></h6>, <h6 class=\"d-inline-block\">Lilac <em>(1)</em></h6>, <h6 class=\"d-inline-block\">Navy <em>(38)</em></h6>, <h6 class=\"d-inline-block\">Skeleton <em>(31)</em></h6>, <h6 class=\"d-inline-block\">Tan <em>(2)</em></h6>, <h6 class=\"d-inline-block\">Turquoise <em>(4)</em></h6>, <h6 class=\"d-inline-block\">Two tone <em>(20)</em></h6>, <h6 class=\"d-inline-block\">Black <em>(1709)</em></h6>, <h6 class=\"d-inline-block\">Blue <em>(754)</em></h6>, <h6 class=\"d-inline-block\">Brown <em>(57)</em></h6>, <h6 class=\"d-inline-block\">Clear <em>(1)</em></h6>, <h6 class=\"d-inline-block\">Gold <em>(75)</em></h6>, <h6 class=\"d-inline-block\">Green <em>(95)</em></h6>, <h6 class=\"d-inline-block\">Grey <em>(299)</em></h6>, <h6 class=\"d-inline-block\">Multicolour <em>(45)</em></h6>, <h6 class=\"d-inline-block\">Orange <em>(11)</em></h6>, <h6 class=\"d-inline-block\">Pearl <em>(6)</em></h6>, <h6 class=\"d-inline-block\">Pink <em>(11)</em></h6>, <h6 class=\"d-inline-block\">Purple <em>(12)</em></h6>, <h6 class=\"d-inline-block\">Red <em>(35)</em></h6>, <h6 class=\"d-inline-block\">Rose <em>(18)</em></h6>, <h6 class=\"d-inline-block\">Silver <em>(397)</em></h6>, <h6 class=\"d-inline-block\">White <em>(871)</em></h6>, <h6 class=\"d-inline-block\">Yellow <em>(14)</em></h6>, <h6 class=\"d-inline-block\">18ct Gold <em>(1)</em></h6>, <h6 class=\"d-inline-block\">18ct Gold Plated Steel <em>(2)</em></h6>, <h6 class=\"d-inline-block\">9ct Gold <em>(1)</em></h6>, <h6 class=\"d-inline-block\">Alloy <em>(90)</em></h6>, <h6 class=\"d-inline-block\">Black Plated <em>(2)</em></h6>, <h6 class=\"d-inline-block\">Blue Ion-Plated Steel <em>(11)</em></h6>, <h6 class=\"d-inline-block\">Bronze <em>(4)</em></h6>, <h6 class=\"d-inline-block\">Gold Ion-plated Steel <em>(13)</em></h6>, <h6 class=\"d-inline-block\">Green Ion-plated Steel <em>(1)</em></h6>, <h6 class=\"d-inline-block\">Grey Ion-plated Steel <em>(4)</em></h6>, <h6 class=\"d-inline-block\">Grey Plated <em>(1)</em></h6>, <h6 class=\"d-inline-block\">Khaki Ion-plated Steel <em>(3)</em></h6>, <h6 class=\"d-inline-block\">Rose Gold Ion-plated Steel <em>(7)</em></h6>, <h6 class=\"d-inline-block\">Black <em>(195)</em></h6>, <h6 class=\"d-inline-block\">Ceramic <em>(12)</em></h6>, <h6 class=\"d-inline-block\">Gold <em>(132)</em></h6>, <h6 class=\"d-inline-block\">Plastic <em>(386)</em></h6>, <h6 class=\"d-inline-block\">Rose <em>(132)</em></h6>, <h6 class=\"d-inline-block\">Silver <em>(2779)</em></h6>, <h6 class=\"d-inline-block\">Twotone <em>(54)</em></h6>, <h6 class=\"d-inline-block\">Analogue <em>(4257)</em></h6>, <h6 class=\"d-inline-block\">Combination <em>(101)</em></h6>, <h6 class=\"d-inline-block\">Digital <em>(220)</em></h6>, <h6 class=\"d-inline-block\">Automatic Chronometer <em>(15)</em></h6>, <h6 class=\"d-inline-block\">Quartz Multifunction <em>(42)</em></h6>, <h6 class=\"d-inline-block\">Swissmatic <em>(4)</em></h6>, <h6 class=\"d-inline-block\">Automatic <em>(776)</em></h6>, <h6 class=\"d-inline-block\">Mechanical <em>(47)</em></h6>, <h6 class=\"d-inline-block\">Quartz <em>(3637)</em></h6>, <h6 class=\"d-inline-block\">Solar <em>(191)</em></h6>, <h6 class=\"d-inline-block\">Asymmetrical <em>(2)</em></h6>, <h6 class=\"d-inline-block\">Shield <em>(1)</em></h6>, <h6 class=\"d-inline-block\">Circle <em>(3557)</em></h6>, <h6 class=\"d-inline-block\">Other <em>(1008)</em></h6>, <h6 class=\"d-inline-block\">Oval <em>(1)</em></h6>, <h6 class=\"d-inline-block\">Rectangle <em>(104)</em></h6>, <h6 class=\"d-inline-block\">Tonneau <em>(46)</em></h6>, <h6 class=\"d-inline-block\">Splashproof <em>(4598)</em></h6>, <h6 class=\"d-inline-block\">Swimproof <em>(2538)</em></h6>, <h6 class=\"d-inline-block\">Diving Standard <em>(335)</em></h6>, <h6 class=\"text-line-2\"> Rotary Aquaspeed Watch AGB19002/C/05</h6>, <h6 class=\"text-line-2\">Mens Casio G-Steel Alarm Chronograph Radio Controlled Watch GST-W100G-1BER</h6>, <h6 class=\"text-line-2\">Mens Citizen Navihawk AT Alarm Chronograph Radio Controlled Eco-Drive Watch JY8037-50E</h6>, <h6 class=\"text-line-2\"> Casio G-Shock G-Steel Military Street Watch GST-W130BC-1A3ER</h6>, <h6 class=\"text-line-2\">Mens Citizen Promaster Skyhawk A-T Radio Controlled Alarm Chronograph Watch JY8070-54E</h6>, <h6 class=\"text-line-2\"> Casio Edifice Watch EFR-566PB-1AVUEF</h6>, <h6 class=\"text-line-2\">Mens Bulova Dress Watch 98B271</h6>, <h6 class=\"text-line-2\">Mens Rotary Pilot Chronograph Watch GB00672/06</h6>, <h6 class=\"text-line-2\">Mens Citizen Alarm Chronograph Stainless Steel Watch BL5563-58E</h6>, <h6 class=\"text-line-2\">Hugo Boss Talent Watch 1513579</h6>, <h6 class=\"text-line-2\"> Casio Edifice Watch EFS-S550PB-1AVUEF</h6>, <h6 class=\"text-line-2\">HUGO Jump Watch 1530001</h6>, <h6 class=\"text-line-2\">Accurist  Analogue-Digital Watch 7231</h6>, <h6 class=\"text-line-2\">Mens Citizen Eco-drive Men's Sport Strap Stainless Steel Watch AW1605-09E</h6>, <h6 class=\"text-line-2\">Mens Accurist World Timer Alarm Chronograph Watch 7101</h6>, <h6 class=\"text-line-2\"> Rotary Aquaspeed Watch AGB19001/W/04</h6>, <h6 class=\"text-line-2\">HUGO Move Watch 1530042</h6>, <h6 class=\"text-line-2\">Gents Gucci G-Timeless Watch YA1264081</h6>, <h6 class=\"text-line-2\">Mens Hugo Boss Supernova Chronograph Watch 1513360</h6>, <h6 class=\"text-line-2\">Mens Tissot Chrono XL NBA Golden State Warriors Chronograph Watch T1166173605102</h6>, <h6 class=\"text-line-2\"> Vivienne Westwood Conduit Watch VV192NVNV</h6>, <h6 class=\"text-line-2\">Mens Casio Watch EFV-120DB-2AVUEF</h6>, <h6 class=\"text-line-2\">Citizen Exclusive Gents Eco-Drive Black Steel Chronograph Watch CA0645-82L</h6>, <h6 class=\"text-line-2\">Mens Daniel Wellington Bristol Silver 40mm Watch DW00100023</h6>, <h6 class=\"text-line-2\">Mens Rotary Pilot Chronograph Watch GS00681/19</h6>, <h6 class=\"text-line-2\">City Watch</h6>, <h6 class=\"text-line-2\">Mens Hugo Boss Slim Ultra Round Watch 1513273</h6>, <h6 class=\"text-line-2\">Citizen World Chrono A-T Limited Edition Watch AT8038-08A</h6>, <h6 class=\"text-line-2\">Mens Pulsar Chronograph Watch PT3195X1</h6>, <h6 class=\"text-line-2\">Mens Rotary Pilot Chronograph Watch GB00681/52</h6>, <h6 class=\"text-line-2\">Mens Ingersoll The Apsley Chronograph Watch I03802</h6>, <h6 class=\"text-line-2\"> Accurist Watch 7175</h6>, <h6 class=\"text-line-2\">Mens Junkers Hugo Junkers Alarm Chronograph Watch 6680-2</h6>, <h6 class=\"text-line-2\">Mens Michel Herbelin Newport Trophy Chronograph Watch 36670/BTR14</h6>, <h6 class=\"text-line-2\">Ladies Daniel Wellington Winchester Silver 36mm Watch DW00100049</h6>, <h6 class=\"text-line-2\">Mens Vivienne Westwood Smithfield Watch VV160BKSL</h6>, <h6 class=\"text-line-2\">Gents Tissot T-Race Cycling Tour De France 2019 Special Edition Watch T1114173705700</h6>, <h6 class=\"text-line-2\">Mens Tissot PRS516 Chronograph Watch T1004173720100</h6>, <h6 class=\"text-line-2\">Mens Hugo Boss Trophy Watch 1513628</h6>, <h6 class=\"text-line-2\"> Hugo Boss Talent Watch 1513584</h6>, <h6 class=\"text-line-2\">Mens Hugo Boss Grand Prix GQ Man of the Year 2018 Chronograph Watch 1513578</h6>, <h6 class=\"text-line-2\">Unisex Gucci Le Marche des Merveilles Watch YA126493</h6>, <h6 class=\"text-line-2\"> CT Scuderia Watch CWED00319</h6>, <h6 class=\"text-line-2\">Mens Casio G-Shock Alarm Chronograph Watch GA-800-4AER</h6>, <h6 class=\"text-line-2\">Mens Raymond Weil Freelancer Bowie Limited Edition Automatic Watch 2731-ST-BOW01</h6>, <h6 class=\"text-line-2\">Rotary Chronograph Watch GS00648/05</h6>, <h6 class=\"text-line-2\">Hugo Boss Gift Set Watch 1570093</h6>, <h6 class=\"text-line-2\"> Hugo Boss Oxygen Watch 1513596</h6>, <h6 class=\"text-line-2\">Mens Casio G-Shock Full Metal Limited Edition Bluetooth Tough Solar Watch GMW-B5000D-1ER</h6>, <h6 class=\"text-line-2\">G-Shock Bluetooth Step Tracker Watch</h6>, <h6 class=\"text-line-2\">Casio Ediface Gunmetal EFR-563GY-1AVUDF</h6>, <h6 class=\"text-line-2\">Casio G-Shock Watch GA-700MMC-1AER</h6>, <h6 class=\"text-line-2\">Casio Classic Alarm Chronograph Watch</h6>, <h6 class=\"text-line-2\"> Casio G-Shock Watch GG-B100-1A9ER</h6>, <h6 class=\"text-line-2\">Casio G-Shock Watch GMA-S130PA-1AER</h6>, <h6 class=\"text-line-2\"> Casio G-Shock Watch GG-B100-1AER</h6>, <h6 class=\"text-line-2\"> Kenneth Cole Watch KC50784002</h6>, <h6 class=\"text-line-2\"> Casio G-Shock Watch GA-140-1A1ER</h6>, <h6 class=\"text-line-2\">Casio Classic Alarm Chronograph Watch</h6>, <h6 class=\"text-line-2\">Rotary Chronograph Watch GB00672/05</h6>, <h6 class=\"text-line-2\"> Hugo Boss Master Watch 1513588</h6>, <h6 class=\"text-line-2\">Unisex Casio Classic Watch MQ-24-7BLL</h6>, <h6 class=\"text-line-2\">Mens Casio G-Shock Waveceptor Alarm Chronograph Radio Controlled Watch GAW-100B-1AER</h6>, <h6 class=\"text-line-2\"> Kenneth Cole Watch KC50784004</h6>, <h6 class=\"text-line-2\"> Casio G-Shock Watch GA-2000S-1AER</h6>, <h6 class=\"text-line-2\"> Kenneth Cole Watch KC50919004</h6>, <h6 class=\"text-line-2\"> Casio Watch EFR-559GY-1AVUEF</h6>, <h6 class=\"text-line-2\"> CT Scuderia Watch CWEG00119</h6>, <h6 class=\"text-line-2\"> CT Scuderia Watch CWEG00219</h6>, <h6 class=\"text-line-2\"> CT Scuderia Watch CWEG00319</h6>, <h6 class=\"text-line-2\"> CT Scuderia Watch CWEH00219</h6>, <h6 class=\"text-line-2\"> CT Scuderia Watch CWEI00319</h6>, <h6 class=\"text-line-2\"> CT Scuderia Watch CWEK00319</h6>, <h6 class=\"text-line-2\"> CT Scuderia Watch CWEJ00119</h6>, <h6 class=\"text-line-2\"> CT Scuderia Watch CWEJ00419</h6>, <h6 class=\"text-line-2\"> CT Scuderia Watch CWEF00219</h6>, <h6 class=\"text-line-2\"> CT Scuderia Watch CWEF00419</h6>, <h6 class=\"text-line-2\"> CT Scuderia Watch CWED00219</h6>, <h6 class=\"text-line-2\"> CT Scuderia Watch CWED00519</h6>, <h6 class=\"text-line-2\"> CT Scuderia Watch CWEE00119</h6>, <h6 class=\"text-line-2\"> CT Scuderia Watch CWEG00519</h6>, <h6 class=\"text-line-2\"> CT Scuderia Watch CWEG00619</h6>, <h6 class=\"text-line-2\"> CT Scuderia Watch CWEH00119</h6>, <h6 class=\"text-line-2\"> CT Scuderia Watch CWEH00319</h6>, <h6 class=\"text-line-2\"> CT Scuderia Watch CWEH00419</h6>, <h6 class=\"text-line-2\"> CT Scuderia Watch CWEI00119</h6>, <h6 class=\"text-line-2\"> CT Scuderia Watch CWEK00219</h6>, <h6 class=\"text-line-2\"> CT Scuderia Watch CWEK00519</h6>, <h6 class=\"text-line-2\"> CT Scuderia Watch CWEJ00519</h6>, <h6 class=\"text-line-2\"> CT Scuderia Watch CWEE00319</h6>, <h6 class=\"text-line-2\">Hugo Boss Mens Bracelet Cufflink Giftset 1570091</h6>, <h6 class=\"text-line-2\"> Kenneth Cole Watch KC50919001</h6>, <h6 class=\"text-line-2\">Casio Core Watch</h6>, <h6 class=\"text-line-2\"> Kenneth Cole Watch KC51024001</h6>, <h6 class=\"text-line-2\">Mens Hugo Boss Corporal Watch 1513641</h6>, <h6 class=\"text-line-2\">Mens Jack Wills Forster Watch JW004BLSL</h6>]\n"
     ]
    }
   ],
   "source": [
    "watches_name = soup.find_all(\"h6\")\n",
    "print(watches_name)"
   ]
  },
  {
   "cell_type": "code",
   "execution_count": 113,
   "metadata": {},
   "outputs": [],
   "source": [
    "the_list = []\n",
    "for b in watches_name[0:]:\n",
    "    result = b.text.strip()\n",
    "    the_list.append(result)"
   ]
  },
  {
   "cell_type": "code",
   "execution_count": 114,
   "metadata": {},
   "outputs": [
    {
     "name": "stdout",
     "output_type": "stream",
     "text": [
      "['88 Rue Du Rhone (2)', 'Abbott Lyon (6)', 'Accurist (89)', 'Adidas Originals (45)', 'Alpina (36)', 'Andreas Osten (14)', 'Armani Exchange (26)', 'Ball (36)', 'Baume & Mercier (34)', 'Ben Sherman (31)', 'Ben Sherman London (50)', 'Bering (29)', 'Birline (1)', 'Breo (4)', 'Bruno Sohnle (40)', 'Bulova (66)', 'CALVIN KLEIN (98)', 'CT Scuderia (24)', 'Casio (216)', 'Certina (99)', 'Christian Paul (13)', 'Citizen (111)', 'Coach (19)', 'Continental (13)', 'DKNY (1)', 'Daisy Knights (2)', 'Daniel Wellington (104)', 'Davosa (60)', 'Diesel (43)', 'Dreyfuss Co (9)', 'Ebel (8)', 'Elliot Brown (30)', 'Emile Chouriet (23)', 'Emporio Armani (38)', 'Eone (19)', 'Esprit (4)', 'EverSwiss (5)', 'Festina (63)', 'Fossil (37)', 'Gc (40)', 'Gucci (63)', 'Guess (83)', 'HUGO (58)', 'Hamilton (180)', 'Henry London (43)', 'Hugo Boss (77)', 'Hugo Boss Orange (2)', 'Hype (11)', 'Ice-Watch (1)', 'Ingersoll (136)', 'Iron Annie (7)', 'Jack Wills (32)', 'Jean Paul Gaultier (18)', 'Jean Pierre (22)', 'Joules (3)', 'Junghans (84)', 'Junkers (5)', 'Kenneth Cole (10)', 'LLARSEN (18)', 'Lacoste (29)', 'Larsson & Jennings (8)', 'Limit (58)', 'Lorus (94)', 'Lotus (29)', 'Louis Erard (24)', 'MVMT (25)', 'Maserati (16)', 'Maurice Lacroix (45)', 'Meistersinger (3)', 'Michael Kors (25)', 'Michel Herbelin (46)', 'Mondaine (45)', 'Movado (45)', 'Muhle Glashutte (74)', 'Nixon (95)', 'Oris (18)', 'Paul Hewitt (20)', 'Paul Smith (12)', 'Police (48)', 'Pulsar (68)', 'REC (13)', 'Rado (3)', 'Raymond Weil (27)', 'Rotary (77)', 'Royal London (3)', 'STORM (85)', 'Scuderia Ferrari (67)', 'Seiko (44)', 'Sekonda (132)', 'Shinola (4)', 'Skagen (27)', 'Skagen Connected (1)', 'Smart Turnout (32)', 'Superdry (20)', 'Suunto (2)', 'Swatch (262)', 'Swiss Military Hanowa (7)', 'TW Steel (26)', 'Ted Baker (22)', 'Thomas Sabo (11)', 'Timberland (22)', 'Timex (123)', 'Tissot (192)', 'Tommy Hilfiger (46)', 'Union Glashuette (26)', 'Verb (3)', 'Versace (8)', 'Versus Versace (25)', 'Victorinox Swiss Army (59)', 'Vivienne Westwood (22)', 'Wenger (24)', 'Zadig & Voltaire (8)', 'Zeppelin (28)', 'For Him (4719)', 'For Her (639)', 'Unisex (639)', 'Bracelet (50)', 'Expandable (12)', 'Mesh (2)', 'Mixed Material (6)', 'N/A (41)', 'Nylon (61)', 'PU Leather (23)', 'Strap (86)', 'Ceramic (7)', 'Cuff (3)', 'Fabric (164)', 'Leather (1782)', 'Metal (1600)', 'Rubber (731)', 'Beige (4)', 'Blue Mother of pearl (1)', 'Burgundy (3)', 'LCD (198)', 'Lilac (1)', 'Navy (38)', 'Skeleton (31)', 'Tan (2)', 'Turquoise (4)', 'Two tone (20)', 'Black (1709)', 'Blue (754)', 'Brown (57)', 'Clear (1)', 'Gold (75)', 'Green (95)', 'Grey (299)', 'Multicolour (45)', 'Orange (11)', 'Pearl (6)', 'Pink (11)', 'Purple (12)', 'Red (35)', 'Rose (18)', 'Silver (397)', 'White (871)', 'Yellow (14)', '18ct Gold (1)', '18ct Gold Plated Steel (2)', '9ct Gold (1)', 'Alloy (90)', 'Black Plated (2)', 'Blue Ion-Plated Steel (11)', 'Bronze (4)', 'Gold Ion-plated Steel (13)', 'Green Ion-plated Steel (1)', 'Grey Ion-plated Steel (4)', 'Grey Plated (1)', 'Khaki Ion-plated Steel (3)', 'Rose Gold Ion-plated Steel (7)', 'Black (195)', 'Ceramic (12)', 'Gold (132)', 'Plastic (386)', 'Rose (132)', 'Silver (2779)', 'Twotone (54)', 'Analogue (4257)', 'Combination (101)', 'Digital (220)', 'Automatic Chronometer (15)', 'Quartz Multifunction (42)', 'Swissmatic (4)', 'Automatic (776)', 'Mechanical (47)', 'Quartz (3637)', 'Solar (191)', 'Asymmetrical (2)', 'Shield (1)', 'Circle (3557)', 'Other (1008)', 'Oval (1)', 'Rectangle (104)', 'Tonneau (46)', 'Splashproof (4598)', 'Swimproof (2538)', 'Diving Standard (335)', 'Rotary Aquaspeed Watch AGB19002/C/05', 'Mens Casio G-Steel Alarm Chronograph Radio Controlled Watch GST-W100G-1BER', 'Mens Citizen Navihawk AT Alarm Chronograph Radio Controlled Eco-Drive Watch JY8037-50E', 'Casio G-Shock G-Steel Military Street Watch GST-W130BC-1A3ER', 'Mens Citizen Promaster Skyhawk A-T Radio Controlled Alarm Chronograph Watch JY8070-54E', 'Casio Edifice Watch EFR-566PB-1AVUEF', 'Mens Bulova Dress Watch 98B271', 'Mens Rotary Pilot Chronograph Watch GB00672/06', 'Mens Citizen Alarm Chronograph Stainless Steel Watch BL5563-58E', 'Hugo Boss Talent Watch 1513579', 'Casio Edifice Watch EFS-S550PB-1AVUEF', 'HUGO Jump Watch 1530001', 'Accurist  Analogue-Digital Watch 7231', \"Mens Citizen Eco-drive Men's Sport Strap Stainless Steel Watch AW1605-09E\", 'Mens Accurist World Timer Alarm Chronograph Watch 7101', 'Rotary Aquaspeed Watch AGB19001/W/04', 'HUGO Move Watch 1530042', 'Gents Gucci G-Timeless Watch YA1264081', 'Mens Hugo Boss Supernova Chronograph Watch 1513360', 'Mens Tissot Chrono XL NBA Golden State Warriors Chronograph Watch T1166173605102', 'Vivienne Westwood Conduit Watch VV192NVNV', 'Mens Casio Watch EFV-120DB-2AVUEF', 'Citizen Exclusive Gents Eco-Drive Black Steel Chronograph Watch CA0645-82L', 'Mens Daniel Wellington Bristol Silver 40mm Watch DW00100023', 'Mens Rotary Pilot Chronograph Watch GS00681/19', 'City Watch', 'Mens Hugo Boss Slim Ultra Round Watch 1513273', 'Citizen World Chrono A-T Limited Edition Watch AT8038-08A', 'Mens Pulsar Chronograph Watch PT3195X1', 'Mens Rotary Pilot Chronograph Watch GB00681/52', 'Mens Ingersoll The Apsley Chronograph Watch I03802', 'Accurist Watch 7175', 'Mens Junkers Hugo Junkers Alarm Chronograph Watch 6680-2', 'Mens Michel Herbelin Newport Trophy Chronograph Watch 36670/BTR14', 'Ladies Daniel Wellington Winchester Silver 36mm Watch DW00100049', 'Mens Vivienne Westwood Smithfield Watch VV160BKSL', 'Gents Tissot T-Race Cycling Tour De France 2019 Special Edition Watch T1114173705700', 'Mens Tissot PRS516 Chronograph Watch T1004173720100', 'Mens Hugo Boss Trophy Watch 1513628', 'Hugo Boss Talent Watch 1513584', 'Mens Hugo Boss Grand Prix GQ Man of the Year 2018 Chronograph Watch 1513578', 'Unisex Gucci Le Marche des Merveilles Watch YA126493', 'CT Scuderia Watch CWED00319', 'Mens Casio G-Shock Alarm Chronograph Watch GA-800-4AER', 'Mens Raymond Weil Freelancer Bowie Limited Edition Automatic Watch 2731-ST-BOW01', 'Rotary Chronograph Watch GS00648/05', 'Hugo Boss Gift Set Watch 1570093', 'Hugo Boss Oxygen Watch 1513596', 'Mens Casio G-Shock Full Metal Limited Edition Bluetooth Tough Solar Watch GMW-B5000D-1ER', 'G-Shock Bluetooth Step Tracker Watch', 'Casio Ediface Gunmetal EFR-563GY-1AVUDF', 'Casio G-Shock Watch GA-700MMC-1AER', 'Casio Classic Alarm Chronograph Watch', 'Casio G-Shock Watch GG-B100-1A9ER', 'Casio G-Shock Watch GMA-S130PA-1AER', 'Casio G-Shock Watch GG-B100-1AER', 'Kenneth Cole Watch KC50784002', 'Casio G-Shock Watch GA-140-1A1ER', 'Casio Classic Alarm Chronograph Watch', 'Rotary Chronograph Watch GB00672/05', 'Hugo Boss Master Watch 1513588', 'Unisex Casio Classic Watch MQ-24-7BLL', 'Mens Casio G-Shock Waveceptor Alarm Chronograph Radio Controlled Watch GAW-100B-1AER', 'Kenneth Cole Watch KC50784004', 'Casio G-Shock Watch GA-2000S-1AER', 'Kenneth Cole Watch KC50919004', 'Casio Watch EFR-559GY-1AVUEF', 'CT Scuderia Watch CWEG00119', 'CT Scuderia Watch CWEG00219', 'CT Scuderia Watch CWEG00319', 'CT Scuderia Watch CWEH00219', 'CT Scuderia Watch CWEI00319', 'CT Scuderia Watch CWEK00319', 'CT Scuderia Watch CWEJ00119', 'CT Scuderia Watch CWEJ00419', 'CT Scuderia Watch CWEF00219', 'CT Scuderia Watch CWEF00419', 'CT Scuderia Watch CWED00219', 'CT Scuderia Watch CWED00519', 'CT Scuderia Watch CWEE00119', 'CT Scuderia Watch CWEG00519', 'CT Scuderia Watch CWEG00619', 'CT Scuderia Watch CWEH00119', 'CT Scuderia Watch CWEH00319', 'CT Scuderia Watch CWEH00419', 'CT Scuderia Watch CWEI00119', 'CT Scuderia Watch CWEK00219', 'CT Scuderia Watch CWEK00519', 'CT Scuderia Watch CWEJ00519', 'CT Scuderia Watch CWEE00319', 'Hugo Boss Mens Bracelet Cufflink Giftset 1570091', 'Kenneth Cole Watch KC50919001', 'Casio Core Watch', 'Kenneth Cole Watch KC51024001', 'Mens Hugo Boss Corporal Watch 1513641', 'Mens Jack Wills Forster Watch JW004BLSL']\n"
     ]
    }
   ],
   "source": [
    "print(the_list)"
   ]
  },
  {
   "cell_type": "code",
   "execution_count": 115,
   "metadata": {},
   "outputs": [],
   "source": [
    "the_list = the_list[:-232]"
   ]
  },
  {
   "cell_type": "code",
   "execution_count": 116,
   "metadata": {},
   "outputs": [
    {
     "data": {
      "text/plain": [
       "61"
      ]
     },
     "execution_count": 116,
     "metadata": {},
     "output_type": "execute_result"
    }
   ],
   "source": [
    "len(the_list)"
   ]
  },
  {
   "cell_type": "code",
   "execution_count": 99,
   "metadata": {},
   "outputs": [],
   "source": [
    "watch = soup.find_all(\"span\", class_ = 'rrp' )"
   ]
  },
  {
   "cell_type": "code",
   "execution_count": 103,
   "metadata": {},
   "outputs": [
    {
     "name": "stdout",
     "output_type": "stream",
     "text": [
      "[<span class=\"rrp\">£428.00</span>, <span class=\"rrp\">£285.00</span>, <span class=\"rrp\">£599.00</span>, <span class=\"rrp\">£299.00</span>, <span class=\"rrp\">£499.00</span>, <span class=\"rrp\">£139.00</span>, <span class=\"rrp\">£599.00</span>, <span class=\"rrp\">£199.00</span>, <span class=\"rrp\">£349.00</span>, <span class=\"rrp\">£250.00</span>, <span class=\"rrp\">£189.00</span>, <span class=\"rrp\">£159.00</span>, <span class=\"rrp\">£239.99</span>, <span class=\"rrp\">£199.00</span>, <span class=\"rrp\">£239.99</span>, <span class=\"rrp\">£294.00</span>, <span class=\"rrp\">£139.00</span>, <span class=\"rrp\">£760.00</span>, <span class=\"rrp\">£375.00</span>, <span class=\"rrp\">£290.00</span>, <span class=\"rrp\">£199.00</span>, <span class=\"rrp\">£99.00</span>, <span class=\"rrp\">£329.00</span>, <span class=\"rrp\">£169.00</span>, <span class=\"rrp\">£199.00</span>, <span class=\"rrp\">£289.00</span>, <span class=\"rrp\">£275.00</span>, <span class=\"rrp\">£549.00</span>, <span class=\"rrp\">£120.00</span>, <span class=\"rrp\">£199.00</span>, <span class=\"rrp\">£260.00</span>, <span class=\"rrp\">£224.99</span>, <span class=\"rrp\">£279.00</span>, <span class=\"rrp\">£890.00</span>, <span class=\"rrp\">£125.00</span>, <span class=\"rrp\">£255.00</span>, <span class=\"rrp\">£415.00</span>, <span class=\"rrp\">£535.00</span>, <span class=\"rrp\">£299.00</span>, <span class=\"rrp\">£399.00</span>, <span class=\"rrp\">£449.00</span>, <span class=\"rrp\">£580.00</span>, <span class=\"rrp\">£130.00</span>, <span class=\"rrp\">£1,395.00</span>, <span class=\"rrp\">£219.00</span>, <span class=\"rrp\">£229.00</span>, <span class=\"rrp\">£229.00</span>, <span class=\"rrp\">£119.00</span>, <span class=\"rrp\">£300.00</span>, <span class=\"rrp\">£119.00</span>, <span class=\"rrp\">£325.00</span>, <span class=\"rrp\">£119.00</span>, <span class=\"rrp\">£325.00</span>, <span class=\"rrp\">£109.00</span>, <span class=\"rrp\">£259.00</span>, <span class=\"rrp\">£150.00</span>, <span class=\"rrp\">£119.00</span>, <span class=\"rrp\">£179.00</span>, <span class=\"rrp\">£199.00</span>, <span class=\"rrp\">£225.00</span>, <span class=\"rrp\">£105.00</span>]\n"
     ]
    }
   ],
   "source": [
    "print(watch)"
   ]
  },
  {
   "cell_type": "code",
   "execution_count": 104,
   "metadata": {},
   "outputs": [],
   "source": [
    "price_list = []\n",
    "for a in watch[0:]:\n",
    "    result2 = a.text.strip()\n",
    "    price_list.append(result2)"
   ]
  },
  {
   "cell_type": "code",
   "execution_count": 106,
   "metadata": {},
   "outputs": [
    {
     "name": "stdout",
     "output_type": "stream",
     "text": [
      "['£428.00', '£285.00', '£599.00', '£299.00', '£499.00', '£139.00', '£599.00', '£199.00', '£349.00', '£250.00', '£189.00', '£159.00', '£239.99', '£199.00', '£239.99', '£294.00', '£139.00', '£760.00', '£375.00', '£290.00', '£199.00', '£99.00', '£329.00', '£169.00', '£199.00', '£289.00', '£275.00', '£549.00', '£120.00', '£199.00', '£260.00', '£224.99', '£279.00', '£890.00', '£125.00', '£255.00', '£415.00', '£535.00', '£299.00', '£399.00', '£449.00', '£580.00', '£130.00', '£1,395.00', '£219.00', '£229.00', '£229.00', '£119.00', '£300.00', '£119.00', '£325.00', '£119.00', '£325.00', '£109.00', '£259.00', '£150.00', '£119.00', '£179.00', '£199.00', '£225.00', '£105.00']\n"
     ]
    }
   ],
   "source": [
    "print(price_list)"
   ]
  },
  {
   "cell_type": "code",
   "execution_count": 107,
   "metadata": {},
   "outputs": [
    {
     "data": {
      "text/plain": [
       "61"
      ]
     },
     "execution_count": 107,
     "metadata": {},
     "output_type": "execute_result"
    }
   ],
   "source": [
    "len(price_list)"
   ]
  },
  {
   "cell_type": "code",
   "execution_count": 120,
   "metadata": {},
   "outputs": [],
   "source": [
    "all_of_them = pd.DataFrame({'Watch':the_list, 'Price':price_list})"
   ]
  },
  {
   "cell_type": "code",
   "execution_count": 122,
   "metadata": {},
   "outputs": [
    {
     "name": "stdout",
     "output_type": "stream",
     "text": [
      "                     Watch    Price\n",
      "0      88 Rue Du Rhone (2)  £428.00\n",
      "1          Abbott Lyon (6)  £285.00\n",
      "2            Accurist (89)  £599.00\n",
      "3    Adidas Originals (45)  £299.00\n",
      "4              Alpina (36)  £499.00\n",
      "..                     ...      ...\n",
      "56             Junkers (5)  £119.00\n",
      "57       Kenneth Cole (10)  £179.00\n",
      "58            LLARSEN (18)  £199.00\n",
      "59            Lacoste (29)  £225.00\n",
      "60  Larsson & Jennings (8)  £105.00\n",
      "\n",
      "[61 rows x 2 columns]\n"
     ]
    }
   ],
   "source": [
    "print(all_of_them)"
   ]
  },
  {
   "cell_type": "code",
   "execution_count": 124,
   "metadata": {},
   "outputs": [],
   "source": [
    "all_of_them.to_excel(\"first-project.xlsx\", index=False)"
   ]
  }
 ],
 "metadata": {
  "kernelspec": {
   "display_name": "Python 3",
   "language": "python",
   "name": "python3"
  },
  "language_info": {
   "codemirror_mode": {
    "name": "ipython",
    "version": 3
   },
   "file_extension": ".py",
   "mimetype": "text/x-python",
   "name": "python",
   "nbconvert_exporter": "python",
   "pygments_lexer": "ipython3",
   "version": "3.7.4"
  }
 },
 "nbformat": 4,
 "nbformat_minor": 2
}
